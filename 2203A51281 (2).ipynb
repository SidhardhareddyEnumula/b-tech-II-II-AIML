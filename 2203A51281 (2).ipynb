{
  "nbformat": 4,
  "nbformat_minor": 0,
  "metadata": {
    "colab": {
      "provenance": []
    },
    "kernelspec": {
      "name": "python3",
      "display_name": "Python 3"
    },
    "language_info": {
      "name": "python"
    }
  },
  "cells": [
    {
      "cell_type": "code",
      "execution_count": null,
      "metadata": {
        "colab": {
          "base_uri": "https://localhost:8080/"
        },
        "id": "Xhf1TL_fxzS4",
        "outputId": "4169b2cc-fc0f-49bb-8548-cb43ebe2d7fc"
      },
      "outputs": [
        {
          "output_type": "stream",
          "name": "stdout",
          "text": [
            "[1, 2, 3, 4, 5, 6, 7, 8, 9]\n"
          ]
        }
      ],
      "source": [
        "import numpy as np\n",
        "list=[1,2,3,4,5,6,7,8,9]\n",
        "print(list)"
      ]
    },
    {
      "cell_type": "code",
      "source": [
        "Array=np.array(list)\n",
        "print(Array)"
      ],
      "metadata": {
        "colab": {
          "base_uri": "https://localhost:8080/"
        },
        "id": "6G4usrC_yYut",
        "outputId": "1bbb771e-887f-43d1-d480-b69e3b4520a6"
      },
      "execution_count": null,
      "outputs": [
        {
          "output_type": "stream",
          "name": "stdout",
          "text": [
            "[4 5 6]\n"
          ]
        }
      ]
    },
    {
      "cell_type": "code",
      "source": [
        "print(type(list))\n",
        "print(type(Array))"
      ],
      "metadata": {
        "colab": {
          "base_uri": "https://localhost:8080/"
        },
        "id": "wx40nI-DzMcM",
        "outputId": "3ca6d300-02e2-4573-ebce-a4fad9817fa5"
      },
      "execution_count": null,
      "outputs": [
        {
          "output_type": "stream",
          "name": "stdout",
          "text": [
            "<class 'list'>\n",
            "<class 'numpy.ndarray'>\n"
          ]
        }
      ]
    },
    {
      "cell_type": "code",
      "source": [
        "list2=[4,5,6]\n",
        "a2=np.array(list2)\n",
        "a3 = Array * a2\n",
        "print(a3)\n",
        "print(a2/Array)"
      ],
      "metadata": {
        "colab": {
          "base_uri": "https://localhost:8080/"
        },
        "id": "oy2U-7QpznPp",
        "outputId": "66f8eec8-5011-41c2-932c-fb2ac605e515"
      },
      "execution_count": null,
      "outputs": [
        {
          "output_type": "stream",
          "name": "stdout",
          "text": [
            "[16 25 36]\n",
            "[1. 1. 1.]\n"
          ]
        }
      ]
    },
    {
      "cell_type": "code",
      "source": [
        "import numpy as np\n",
        "a=np.array([1,2,3,4,5])\n",
        "b=np.array([3,4,5,6,7])\n",
        "c=a+b\n",
        "print(c)"
      ],
      "metadata": {
        "colab": {
          "base_uri": "https://localhost:8080/"
        },
        "id": "2Wzv38tX4RgU",
        "outputId": "e57cbfa8-0320-4aea-bd7b-a848b67a10b7"
      },
      "execution_count": null,
      "outputs": [
        {
          "output_type": "stream",
          "name": "stdout",
          "text": [
            "[ 4  6  8 10 12]\n"
          ]
        }
      ]
    },
    {
      "cell_type": "code",
      "source": [
        "print(np.sin(a))\n",
        "print(np.log(a))\n",
        "print(np.log2(a))\n",
        "print(np.exp(a))"
      ],
      "metadata": {
        "colab": {
          "base_uri": "https://localhost:8080/"
        },
        "id": "aqGlxvq843cW",
        "outputId": "d5949bc5-ccb9-4a0c-8a81-96682147c5db"
      },
      "execution_count": null,
      "outputs": [
        {
          "output_type": "stream",
          "name": "stdout",
          "text": [
            "[ 0.84147098  0.90929743  0.14112001 -0.7568025  -0.95892427]\n",
            "[0.         0.69314718 1.09861229 1.38629436 1.60943791]\n",
            "[0.         1.         1.5849625  2.         2.32192809]\n",
            "[  2.71828183   7.3890561   20.08553692  54.59815003 148.4131591 ]\n"
          ]
        }
      ]
    },
    {
      "cell_type": "code",
      "source": [
        "import matplotlib.pyplot as plt\n",
        "people = ['kiran','arun','vijay','varun']\n",
        "age =[25, 30, 35, 40,]\n",
        "height =[145, 151, 165, 173]\n",
        "weight=[45, 55, 65, 75]\n",
        "plt.scatter(age, height, color='blue', label='Height')\n",
        "plt.plot(age,height)\n",
        "plt.scatter(age, weight, color='red', label='Weight')\n",
        "plt.plot(age,weight)\n",
        "plt.xlabel('Age')\n",
        "plt.ylabel('Height/Weight')\n",
        "plt.legend()\n",
        "plt.show()\n",
        "\n",
        "\n"
      ],
      "metadata": {
        "colab": {
          "base_uri": "https://localhost:8080/",
          "height": 449
        },
        "id": "spdSHGt26pVc",
        "outputId": "09948291-ed70-4117-eb8d-c9e8ca740fd4"
      },
      "execution_count": null,
      "outputs": [
        {
          "output_type": "display_data",
          "data": {
            "text/plain": [
              "<Figure size 640x480 with 1 Axes>"
            ],
            "image/png": "[encoded data removed]"
          },
          "metadata": {}
        }
      ]
    },
    {
      "cell_type": "code",
      "source": [
        "plt.bar(people, age, color='skyblue', label='Age')\n",
        "plt.xlabel('Age')\n",
        "plt.ylabel('Frequency')\n",
        "plt.title('Age Distribution in Healthcare Data')\n",
        "plt.show()"
      ],
      "metadata": {
        "colab": {
          "base_uri": "https://localhost:8080/",
          "height": 472
        },
        "id": "ycd7gHWF-Poy",
        "outputId": "f3225c65-3290-410b-ac57-289b41593987"
      },
      "execution_count": null,
      "outputs": [
        {
          "output_type": "display_data",
          "data": {
            "text/plain": [
              "<Figure size 640x480 with 1 Axes>"
            ],
            "image/png": "[encoded data removed]"
          },
          "metadata": {}
        }
      ]
    },
    {
      "cell_type": "code",
      "source": [
        "plt.hist(age, bins=5, color='skyblue', edgecolor='black')\n",
        "plt.xlabel('Age')\n",
        "plt.ylabel('Frequency')\n",
        "plt.title('Age Distribution in Healthcare Data')\n",
        "plt.show()"
      ],
      "metadata": {
        "colab": {
          "base_uri": "https://localhost:8080/",
          "height": 472
        },
        "id": "gM3-Ps2T-ZPt",
        "outputId": "c9202b2b-edbb-4d39-dcc4-dd7e149ff437"
      },
      "execution_count": null,
      "outputs": [
        {
          "output_type": "display_data",
          "data": {
            "text/plain": [
              "<Figure size 640x480 with 1 Axes>"
            ],
            "image/png": "[encoded data removed]"
          },
          "metadata": {}
        }
      ]
    },
    {
      "cell_type": "code",
      "source": [
        "import pandas as pd\n",
        "t=pd.read_csv(\"/content/drive/MyDrive/Top_scientists_2022.csv\")\n",
        "print(t)"
      ],
      "metadata": {
        "colab": {
          "base_uri": "https://localhost:8080/"
        },
        "id": "FcUCaZd-Dx6r",
        "outputId": "20d34669-7508-41ca-d392-14c8593a695e"
      },
      "execution_count": null,
      "outputs": [
        {
          "output_type": "stream",
          "name": "stdout",
          "text": [
            "                  authfull                                          inst_name  \\\n",
            "0         Grätzel, Michael           Ecole Polytechnique Fédérale de Lausanne   \n",
            "1          Wang, Zhong Lin                        Chinese Academy of Sciences   \n",
            "2       Willett, Walter C.          Harvard T.H. Chan School of Public Health   \n",
            "3            Kresse, Georg                                   Universität Wien   \n",
            "4       Kessler, Ronald C.                             Harvard Medical School   \n",
            "...                    ...                                                ...   \n",
            "204638       Zhang, Zhiwei                          The Ohio State University   \n",
            "204639         Naitoh, Ken                                  Waseda University   \n",
            "204640    Altabey, Wael A.                             Faculty of Engineering   \n",
            "204641     Kund, Nirmal K.                       VSS University of Technology   \n",
            "204642     Piltyay, Stepan  National Technical University of Ukraine “Igor...   \n",
            "\n",
            "       cntry  np6022  firstyr  lastyr  rank (ns)  nc9622 (ns)  h22 (ns)  \\\n",
            "0        che    1736     1971    2023          1       345061       264   \n",
            "1        chn    2455     1986    2023          2       241481       233   \n",
            "2        usa    2409     1970    2023          3       326685       297   \n",
            "3        aut     380     1992    2023          4       265530       106   \n",
            "4        usa    1095     1975    2023          5       247805       232   \n",
            "...      ...     ...      ...     ...        ...          ...       ...   \n",
            "204638   usa      49     2005    2023    2220302          140         7   \n",
            "204639   jpn     122     1989    2023    2270028          142         7   \n",
            "204640   egy      72     2009    2024    2304803          167         7   \n",
            "204641   ind      47     2010    2023    2811291           56         4   \n",
            "204642   ukr      67     2008    2023    4809825           41         3   \n",
            "\n",
            "         hm22 (ns)  ...  nc9622_d                               sm-subfield-1  \\\n",
            "0       114.848112  ...      4308                Nanoscience & Nanotechnology   \n",
            "1       120.885520  ...      3896                Nanoscience & Nanotechnology   \n",
            "2       119.011435  ...      3815                                Epidemiology   \n",
            "3        48.512819  ...      1077                             Applied Physics   \n",
            "4        84.994435  ...      1575                                  Psychiatry   \n",
            "...            ...  ...       ...                                         ...   \n",
            "204638    2.691667  ...         0         Electrical & Electronic Engineering   \n",
            "204639    2.709524  ...         0                                      Energy   \n",
            "204640    2.933333  ...         0                           Civil Engineering   \n",
            "204641    3.500000  ...       667  Artificial Intelligence & Image Processing   \n",
            "204642    1.833333  ...         0             Networking & Telecommunications   \n",
            "\n",
            "        sm-subfield-1-frac                               sm-subfield-2  \\\n",
            "0                 0.197118                            Chemical Physics   \n",
            "1                 0.567347                                   Materials   \n",
            "2                 0.190179                       Nutrition & Dietetics   \n",
            "3                 0.428947                            Chemical Physics   \n",
            "4                 0.594521                               Public Health   \n",
            "...                    ...                                         ...   \n",
            "204638            0.897959             Networking & Telecommunications   \n",
            "204639            0.286885                     Aerospace & Aeronautics   \n",
            "204640            0.236111                                   Materials   \n",
            "204641            0.787234                                   Materials   \n",
            "204642            0.761194  Artificial Intelligence & Image Processing   \n",
            "\n",
            "        sm-subfield-2-frac                                  sm-field  \\\n",
            "0                 0.125648         Enabling & Strategic Technologies   \n",
            "1                 0.101224         Enabling & Strategic Technologies   \n",
            "2                 0.163546                         Clinical Medicine   \n",
            "3                 0.250000                       Physics & Astronomy   \n",
            "4                 0.053881                         Clinical Medicine   \n",
            "...                    ...                                       ...   \n",
            "204638            0.040816                               Engineering   \n",
            "204639            0.155738                               Engineering   \n",
            "204640            0.152778                               Engineering   \n",
            "204641            0.127660  Information & Communication Technologies   \n",
            "204642            0.134328  Information & Communication Technologies   \n",
            "\n",
            "        sm-field-frac  rank sm-subfield-1  rank sm-subfield-1 (ns)  \\\n",
            "0            0.408069                   1                        1   \n",
            "1            0.722857                   2                        2   \n",
            "2            0.529754                   1                        1   \n",
            "3            0.886842                   1                        1   \n",
            "4            0.776256                   1                        1   \n",
            "...               ...                 ...                      ...   \n",
            "204638       0.897959                2215                    13258   \n",
            "204639       0.409836                4670                    50326   \n",
            "204640       0.402778                 875                     8414   \n",
            "204641       0.787234                4386                    75730   \n",
            "204642       0.895522                2942                    81282   \n",
            "\n",
            "        sm-subfield-1 count  \n",
            "0                    117692  \n",
            "1                    117692  \n",
            "2                      9487  \n",
            "3                    295432  \n",
            "4                     75292  \n",
            "...                     ...  \n",
            "204638               111935  \n",
            "204639               287766  \n",
            "204640                54049  \n",
            "204641               356955  \n",
            "204642               197500  \n",
            "\n",
            "[204643 rows x 46 columns]\n",
            "                  authfull                                          inst_name  \\\n",
            "0         Grätzel, Michael           Ecole Polytechnique Fédérale de Lausanne   \n",
            "1          Wang, Zhong Lin                        Chinese Academy of Sciences   \n",
            "2       Willett, Walter C.          Harvard T.H. Chan School of Public Health   \n",
            "3            Kresse, Georg                                   Universität Wien   \n",
            "4       Kessler, Ronald C.                             Harvard Medical School   \n",
            "...                    ...                                                ...   \n",
            "204638       Zhang, Zhiwei                          The Ohio State University   \n",
            "204639         Naitoh, Ken                                  Waseda University   \n",
            "204640    Altabey, Wael A.                             Faculty of Engineering   \n",
            "204641     Kund, Nirmal K.                       VSS University of Technology   \n",
            "204642     Piltyay, Stepan  National Technical University of Ukraine “Igor...   \n",
            "\n",
            "       cntry  np6022  firstyr  lastyr  rank (ns)  nc9622 (ns)  h22 (ns)  \\\n",
            "0        che    1736     1971    2023          1       345061       264   \n",
            "1        chn    2455     1986    2023          2       241481       233   \n",
            "2        usa    2409     1970    2023          3       326685       297   \n",
            "3        aut     380     1992    2023          4       265530       106   \n",
            "4        usa    1095     1975    2023          5       247805       232   \n",
            "...      ...     ...      ...     ...        ...          ...       ...   \n",
            "204638   usa      49     2005    2023    2220302          140         7   \n",
            "204639   jpn     122     1989    2023    2270028          142         7   \n",
            "204640   egy      72     2009    2024    2304803          167         7   \n",
            "204641   ind      47     2010    2023    2811291           56         4   \n",
            "204642   ukr      67     2008    2023    4809825           41         3   \n",
            "\n",
            "         hm22 (ns)  ...  nc9622_d                               sm-subfield-1  \\\n",
            "0       114.848112  ...      4308                Nanoscience & Nanotechnology   \n",
            "1       120.885520  ...      3896                Nanoscience & Nanotechnology   \n",
            "2       119.011435  ...      3815                                Epidemiology   \n",
            "3        48.512819  ...      1077                             Applied Physics   \n",
            "4        84.994435  ...      1575                                  Psychiatry   \n",
            "...            ...  ...       ...                                         ...   \n",
            "204638    2.691667  ...         0         Electrical & Electronic Engineering   \n",
            "204639    2.709524  ...         0                                      Energy   \n",
            "204640    2.933333  ...         0                           Civil Engineering   \n",
            "204641    3.500000  ...       667  Artificial Intelligence & Image Processing   \n",
            "204642    1.833333  ...         0             Networking & Telecommunications   \n",
            "\n",
            "        sm-subfield-1-frac                               sm-subfield-2  \\\n",
            "0                 0.197118                            Chemical Physics   \n",
            "1                 0.567347                                   Materials   \n",
            "2                 0.190179                       Nutrition & Dietetics   \n",
            "3                 0.428947                            Chemical Physics   \n",
            "4                 0.594521                               Public Health   \n",
            "...                    ...                                         ...   \n",
            "204638            0.897959             Networking & Telecommunications   \n",
            "204639            0.286885                     Aerospace & Aeronautics   \n",
            "204640            0.236111                                   Materials   \n",
            "204641            0.787234                                   Materials   \n",
            "204642            0.761194  Artificial Intelligence & Image Processing   \n",
            "\n",
            "        sm-subfield-2-frac                                  sm-field  \\\n",
            "0                 0.125648         Enabling & Strategic Technologies   \n",
            "1                 0.101224         Enabling & Strategic Technologies   \n",
            "2                 0.163546                         Clinical Medicine   \n",
            "3                 0.250000                       Physics & Astronomy   \n",
            "4                 0.053881                         Clinical Medicine   \n",
            "...                    ...                                       ...   \n",
            "204638            0.040816                               Engineering   \n",
            "204639            0.155738                               Engineering   \n",
            "204640            0.152778                               Engineering   \n",
            "204641            0.127660  Information & Communication Technologies   \n",
            "204642            0.134328  Information & Communication Technologies   \n",
            "\n",
            "        sm-field-frac  rank sm-subfield-1  rank sm-subfield-1 (ns)  \\\n",
            "0            0.408069                   1                        1   \n",
            "1            0.722857                   2                        2   \n",
            "2            0.529754                   1                        1   \n",
            "3            0.886842                   1                        1   \n",
            "4            0.776256                   1                        1   \n",
            "...               ...                 ...                      ...   \n",
            "204638       0.897959                2215                    13258   \n",
            "204639       0.409836                4670                    50326   \n",
            "204640       0.402778                 875                     8414   \n",
            "204641       0.787234                4386                    75730   \n",
            "204642       0.895522                2942                    81282   \n",
            "\n",
            "        sm-subfield-1 count  \n",
            "0                    117692  \n",
            "1                    117692  \n",
            "2                      9487  \n",
            "3                    295432  \n",
            "4                     75292  \n",
            "...                     ...  \n",
            "204638               111935  \n",
            "204639               287766  \n",
            "204640                54049  \n",
            "204641               356955  \n",
            "204642               197500  \n",
            "\n",
            "[204643 rows x 46 columns]\n"
          ]
        }
      ]
    },
    {
      "cell_type": "code",
      "source": [
        "import pandas as pd\n",
        "t=pd.read_csv(\"/content/drive/MyDrive/sample-1.tsv\")\n",
        "print(t)"
      ],
      "metadata": {
        "colab": {
          "base_uri": "https://localhost:8080/"
        },
        "id": "J_wniC5EQ7jN",
        "outputId": "d44182c6-5f9d-4830-c538-0680e635a019"
      },
      "execution_count": null,
      "outputs": [
        {
          "output_type": "stream",
          "name": "stdout",
          "text": [
            "   \\t\\t\\t\\t\\t\\t\\t\\t\\t\\t\\t\\t\\t\\t\\t\\t\\t\\t\\t\\t\\t\\t\\t\\t\\t2022\\tCreate more with themes              Go to  Format  >> Theme\n",
            "0   \\tJANUARY\\t\\t\\t\\t\\t\\t\\t\\tFEBRUARY\\t\\t\\t\\t\\t\\t\\...                                                                  \n",
            "1   \\tS\\tM\\tT\\tW\\tT\\tF\\tS\\t\\tS\\tM\\tT\\tW\\tT\\tF\\tS\\t...                                                                  \n",
            "2   \\t\\t\\t\\t\\t\\t\\t1\\t\\t\\t\\t1\\t2\\t3\\t4\\t5\\t\\t\\t\\t1\\...                                                                  \n",
            "3   \\t2\\t3\\t4\\t5\\t6\\t7\\t8\\t\\t6\\t7\\t8\\t9\\t10\\t11\\t1...                                                                  \n",
            "4   \\t9\\t10\\t11\\t12\\t13\\t14\\t15\\t\\t13\\t14\\t15\\t16\\...                                                                  \n",
            "5   \\t16\\t17\\t18\\t19\\t20\\t21\\t22\\t\\t20\\t21\\t22\\t23...                                                                  \n",
            "6   \\t23\\t24\\t25\\t26\\t27\\t28\\t29\\t\\t27\\t28\\t\\t\\t\\t...                                                                  \n",
            "7   \\t30\\t31\\t\\t\\t\\t\\t\\t\\t\\t\\t\\t\\t\\t\\t\\t\\t\\t\\t\\t\\t...                                                                  \n",
            "8   \\tAPRIL \\t\\t\\t\\t\\t\\t\\t\\tMAY\\t\\t\\t\\t\\t\\t\\t\\tJUN...                                                                  \n",
            "9   \\tS\\tM\\tT\\tW\\tT\\tF\\tS\\t\\tS\\tM\\tT\\tW\\tT\\tF\\tS\\t...                                                                  \n",
            "10  \\t\\t\\t\\t\\t\\t1\\t2\\t\\t1\\t2\\t3\\t4\\t5\\t6\\t7\\t\\t\\t\\...                                                                  \n",
            "11  \\t3\\t4\\t5\\t6\\t7\\t8\\t9\\t\\t8\\t9\\t10\\t11\\t12\\t13\\...                                                                  \n",
            "12  \\t10\\t11\\t12\\t13\\t14\\t15\\t16\\t\\t15\\t16\\t17\\t18...                                                                  \n",
            "13  \\t17\\t18\\t19\\t20\\t21\\t22\\t23\\t\\t22\\t23\\t24\\t25...                                                                  \n",
            "14  \\t24\\t25\\t26\\t27\\t28\\t29\\t30\\t\\t29\\t30\\t31\\t\\t...                                                                  \n",
            "15  \\tJULY\\t\\t\\t\\t\\t\\t\\t\\tAUGUST\\t\\t\\t\\t\\t\\t\\t\\tSE...                                                                  \n",
            "16  \\tS\\tM\\tT\\tW\\tT\\tF\\tS\\t\\tS\\tM\\tT\\tW\\tT\\tF\\tS\\t...                                                                  \n",
            "17  \\t\\t\\t\\t\\t\\t1\\t2\\t\\t\\t1\\t2\\t3\\t4\\t5\\t6\\t\\t\\t\\t...                                                                  \n",
            "18  \\t3\\t4\\t5\\t6\\t7\\t8\\t9\\t\\t7\\t8\\t9\\t10\\t11\\t12\\t...                                                                  \n",
            "19  \\t10\\t11\\t12\\t13\\t14\\t15\\t16\\t\\t14\\t15\\t16\\t17...                                                                  \n",
            "20  \\t17\\t18\\t19\\t20\\t21\\t22\\t23\\t\\t21\\t22\\t23\\t24...                                                                  \n",
            "21  \\t24\\t25\\t26\\t27\\t28\\t29\\t30\\t\\t28\\t29\\t30\\t31...                                                                  \n",
            "22  \\t31\\t\\t\\t\\t\\t\\t\\t\\t\\t\\t\\t\\t\\t\\t\\t\\t\\t\\t\\t\\t\\t...                                                                  \n",
            "23  \\tOCTOBER\\t\\t\\t\\t\\t\\t\\t\\tNOVEMBER\\t\\t\\t\\t\\t\\t\\...                                                                  \n",
            "24  \\tS\\tM\\tT\\tW\\tT\\tF\\tS\\t\\tS\\tM\\tT\\tW\\tT\\tF\\tS\\t...                                                                  \n",
            "25  \\t\\t\\t\\t\\t\\t\\t1\\t\\t\\t\\t1\\t2\\t3\\t4\\t5\\t\\t\\t\\t\\t...                                                                  \n",
            "26  \\t2\\t3\\t4\\t5\\t6\\t7\\t8\\t\\t6\\t7\\t8\\t9\\t10\\t11\\t1...                                                                  \n",
            "27  \\t9\\t10\\t11\\t12\\t13\\t14\\t15\\t\\t13\\t14\\t15\\t16\\...                                                                  \n",
            "28  \\t16\\t17\\t18\\t19\\t20\\t21\\t22\\t\\t20\\t21\\t22\\t23...                                                                  \n",
            "29  \\t23\\t24\\t25\\t26\\t27\\t28\\t29\\t\\t27\\t28\\t29\\t30...                                                                  \n",
            "30  \\t30\\t31\\t\\t\\t\\t\\t\\t\\t\\t\\t\\t\\t\\t\\t\\t\\t\\t\\t\\t\\t...                                                                  \n"
          ]
        }
      ]
    },
    {
      "cell_type": "code",
      "source": [
        "from google.colab import drive\n",
        "drive.mount('/content/drive')"
      ],
      "metadata": {
        "id": "pLaRMI4LIvDl",
        "colab": {
          "base_uri": "https://localhost:8080/"
        },
        "outputId": "a5980d53-eadf-49c6-c32c-fcf8162115d4"
      },
      "execution_count": null,
      "outputs": [
        {
          "output_type": "stream",
          "name": "stdout",
          "text": [
            "Drive already mounted at /content/drive; to attempt to forcibly remount, call drive.mount(\"/content/drive\", force_remount=True).\n"
          ]
        }
      ]
    },
    {
      "cell_type": "code",
      "source": [
        "import pandas as pd\n",
        "t=pd.read_excel(\"/content/file_example_XLSX_100.xlsx\")\n",
        "print(t)"
      ],
      "metadata": {
        "colab": {
          "base_uri": "https://localhost:8080/"
        },
        "id": "bAYPDKfYSfQh",
        "outputId": "8657ee3a-f3bb-4d0e-ed0a-48c405da87b5"
      },
      "execution_count": null,
      "outputs": [
        {
          "output_type": "stream",
          "name": "stdout",
          "text": [
            "      0 First Name   Last Name  Gender        Country  Age        Date    Id\n",
            "0     1      Dulce       Abril  Female  United States   32  15/10/2017  1562\n",
            "1     2       Mara   Hashimoto  Female  Great Britain   25  16/08/2016  1582\n",
            "2     3     Philip        Gent    Male         France   36  21/05/2015  2587\n",
            "3     4   Kathleen      Hanner  Female  United States   25  15/10/2017  3549\n",
            "4     5    Nereida     Magwood  Female  United States   58  16/08/2016  2468\n",
            "..  ...        ...         ...     ...            ...  ...         ...   ...\n",
            "95   96       Roma  Lafollette  Female  United States   34  15/10/2017  2654\n",
            "96   97     Felisa        Cail  Female  United States   28  16/08/2016  6525\n",
            "97   98   Demetria       Abbey  Female  United States   32  21/05/2015  3265\n",
            "98   99     Jeromy        Danz    Male  United States   39  15/10/2017  3265\n",
            "99  100   Rasheeda      Alkire  Female  United States   29  16/08/2016  6125\n",
            "\n",
            "[100 rows x 8 columns]\n"
          ]
        }
      ]
    },
    {
      "cell_type": "code",
      "source": [
        "import pandas as pd\n",
        "url = 'https://raw.githubusercontent.com/codeforamerica/ohana-api/master/data/sample-csv/addresses.csv'\n",
        "t = pd.read_csv(url)\n",
        "print(t)"
      ],
      "metadata": {
        "colab": {
          "base_uri": "https://localhost:8080/"
        },
        "id": "Ha5dq7ysP6n4",
        "outputId": "46666da6-3899-46e0-8b31-6d7c183f9547"
      },
      "execution_count": null,
      "outputs": [
        {
          "output_type": "stream",
          "name": "stdout",
          "text": [
            "    id  location_id                   address_1  address_2  \\\n",
            "0    1            1       2600 Middlefield Road        NaN   \n",
            "1    2            2            24 Second Avenue        NaN   \n",
            "2    3            3            24 Second Avenue        NaN   \n",
            "3    4            4            24 Second Avenue        NaN   \n",
            "4    5            5            24 Second Avenue        NaN   \n",
            "5    6            6           800 Middle Avenue        NaN   \n",
            "6    7            7              500 Arbor Road        NaN   \n",
            "7    8            8           800 Middle Avenue        NaN   \n",
            "8    9            9       2510 Middlefield Road        NaN   \n",
            "9   10           10       1044 Middlefield Road        NaN   \n",
            "10  11           11         2140 Euclid Avenue.        NaN   \n",
            "11  12           12       1044 Middlefield Road  2nd Floor   \n",
            "12  13           13         399 Marine Parkway.        NaN   \n",
            "13  14           14          660 Veterans Blvd.        NaN   \n",
            "14  15           15        1500 Valencia Street        NaN   \n",
            "15  16           16         1161 South Bernardo        NaN   \n",
            "16  17           17     409 South Spruce Avenue        NaN   \n",
            "17  18           18            114 Fifth Avenue        NaN   \n",
            "18  19           19         19 West 39th Avenue        NaN   \n",
            "19  20           21          123 El Camino Real        NaN   \n",
            "20  21           22  2013 Avenue of the fellows  Suite 100   \n",
            "\n",
            "                   city state_province postal_code country  \n",
            "0          Redwood City             CA       94063      US  \n",
            "1             San Mateo             CA       94401      US  \n",
            "2             San Mateo             CA       94403      US  \n",
            "3             San Mateo             CA       94401      US  \n",
            "4             San Mateo             CA       94401      US  \n",
            "5            Menlo Park             CA  94025-9881      US  \n",
            "6            Menlo Park             CA       94025      US  \n",
            "7            Menlo Park             CA  94025-9881      US  \n",
            "8          Redwood City             CA       94063      US  \n",
            "9          Redwood City             CA       94063      US  \n",
            "10         Redwood City             CA       94061      US  \n",
            "11         Redwood City             CA       94063      US  \n",
            "12         Redwood City             CA       94065      US  \n",
            "13         Redwood City             CA       94063      US  \n",
            "14        San Francisco             CA       94110      US  \n",
            "15            Sunnyvale             CA       94087      US  \n",
            "16  South San Francisco             CA       94080      US  \n",
            "17         Redwood City             CA       94063      US  \n",
            "18            San Mateo             CA       94403      US  \n",
            "19              Belmont             CA       94002      US  \n",
            "20        San Francisco             CA       94103      US  \n"
          ]
        }
      ]
    }
  ]
}