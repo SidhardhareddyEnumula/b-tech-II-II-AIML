{
  "nbformat": 4,
  "nbformat_minor": 0,
  "metadata": {
    "colab": {
      "provenance": []
    },
    "kernelspec": {
      "name": "python3",
      "display_name": "Python 3"
    },
    "language_info": {
      "name": "python"
    }
  },
  "cells": [
    {
      "cell_type": "code",
      "execution_count": 7,
      "metadata": {
        "id": "KUe6gTO2GP99",
        "colab": {
          "base_uri": "https://localhost:8080/"
        },
        "outputId": "0cf9dae5-9aa8-4376-c697-afa3793bc2a0"
      },
      "outputs": [
        {
          "output_type": "stream",
          "name": "stdout",
          "text": [
            "      battery_power  blue  clock_speed  dual_sim  fc  four_g  int_memory  \\\n",
            "0               842     0          2.2         0   1       0           7   \n",
            "1              1021     1          0.5         1   0       1          53   \n",
            "2               563     1          0.5         1   2       1          41   \n",
            "3               615     1          2.5         0   0       0          10   \n",
            "4              1821     1          1.2         0  13       1          44   \n",
            "...             ...   ...          ...       ...  ..     ...         ...   \n",
            "1995            794     1          0.5         1   0       1           2   \n",
            "1996           1965     1          2.6         1   0       0          39   \n",
            "1997           1911     0          0.9         1   1       1          36   \n",
            "1998           1512     0          0.9         0   4       1          46   \n",
            "1999            510     1          2.0         1   5       1          45   \n",
            "\n",
            "      m_dep  mobile_wt  n_cores  ...  px_height  px_width   ram  sc_h  sc_w  \\\n",
            "0       0.6        188        2  ...         20       756  2549     9     7   \n",
            "1       0.7        136        3  ...        905      1988  2631    17     3   \n",
            "2       0.9        145        5  ...       1263      1716  2603    11     2   \n",
            "3       0.8        131        6  ...       1216      1786  2769    16     8   \n",
            "4       0.6        141        2  ...       1208      1212  1411     8     2   \n",
            "...     ...        ...      ...  ...        ...       ...   ...   ...   ...   \n",
            "1995    0.8        106        6  ...       1222      1890   668    13     4   \n",
            "1996    0.2        187        4  ...        915      1965  2032    11    10   \n",
            "1997    0.7        108        8  ...        868      1632  3057     9     1   \n",
            "1998    0.1        145        5  ...        336       670   869    18    10   \n",
            "1999    0.9        168        6  ...        483       754  3919    19     4   \n",
            "\n",
            "      talk_time  three_g  touch_screen  wifi  price_range  \n",
            "0            19        0             0     1            1  \n",
            "1             7        1             1     0            2  \n",
            "2             9        1             1     0            2  \n",
            "3            11        1             0     0            2  \n",
            "4            15        1             1     0            1  \n",
            "...         ...      ...           ...   ...          ...  \n",
            "1995         19        1             1     0            0  \n",
            "1996         16        1             1     1            2  \n",
            "1997          5        1             1     0            3  \n",
            "1998         19        1             1     1            0  \n",
            "1999          2        1             1     1            3  \n",
            "\n",
            "[2000 rows x 21 columns]\n"
          ]
        }
      ],
      "source": [
        "import pandas as pd\n",
        "data=pd.read_csv('/content/train.csv')\n",
        "print(data)\n",
        "d=data.describe()"
      ]
    },
    {
      "cell_type": "code",
      "source": [
        "X = data.drop(columns=[\"price_range\"])\n",
        "y = data[\"price_range\"]\n",
        "print(\"Features (X):\\n\", X.head())\n",
        "print(\"\\nTarget (y):\\n\", y.head())"
      ],
      "metadata": {
        "colab": {
          "base_uri": "https://localhost:8080/"
        },
        "id": "Nzaqn4gqLzct",
        "outputId": "31866228-dd54-45d2-cd8a-5654b12e6839"
      },
      "execution_count": 8,
      "outputs": [
        {
          "output_type": "stream",
          "name": "stdout",
          "text": [
            "Features (X):\n",
            "    battery_power  blue  clock_speed  dual_sim  fc  four_g  int_memory  m_dep  \\\n",
            "0            842     0          2.2         0   1       0           7    0.6   \n",
            "1           1021     1          0.5         1   0       1          53    0.7   \n",
            "2            563     1          0.5         1   2       1          41    0.9   \n",
            "3            615     1          2.5         0   0       0          10    0.8   \n",
            "4           1821     1          1.2         0  13       1          44    0.6   \n",
            "\n",
            "   mobile_wt  n_cores  pc  px_height  px_width   ram  sc_h  sc_w  talk_time  \\\n",
            "0        188        2   2         20       756  2549     9     7         19   \n",
            "1        136        3   6        905      1988  2631    17     3          7   \n",
            "2        145        5   6       1263      1716  2603    11     2          9   \n",
            "3        131        6   9       1216      1786  2769    16     8         11   \n",
            "4        141        2  14       1208      1212  1411     8     2         15   \n",
            "\n",
            "   three_g  touch_screen  wifi  \n",
            "0        0             0     1  \n",
            "1        1             1     0  \n",
            "2        1             1     0  \n",
            "3        1             0     0  \n",
            "4        1             1     0  \n",
            "\n",
            "Target (y):\n",
            " 0    1\n",
            "1    2\n",
            "2    2\n",
            "3    2\n",
            "4    1\n",
            "Name: price_range, dtype: int64\n"
          ]
        }
      ]
    },
    {
      "cell_type": "code",
      "source": [
        "from sklearn.model_selection import train_test_split\n",
        "\n",
        "X_train, X_test, y_train, y_test = train_test_split(X, y, test_size=0.2, random_state=0)\n",
        "\n",
        "print(\"Train set shape:\", X_train.shape)\n",
        "print(\"Test set shape:\", X_test.shape)"
      ],
      "metadata": {
        "colab": {
          "base_uri": "https://localhost:8080/"
        },
        "id": "FwpoyLYnNOTy",
        "outputId": "e4da6ae6-ee50-4edf-d909-9fd85524b5f5"
      },
      "execution_count": 11,
      "outputs": [
        {
          "output_type": "stream",
          "name": "stdout",
          "text": [
            "Train set shape: (1600, 20)\n",
            "Test set shape: (400, 20)\n"
          ]
        }
      ]
    },
    {
      "cell_type": "code",
      "source": [
        "from sklearn.preprocessing import MinMaxScaler\n",
        "scaler = MinMaxScaler()\n",
        "t_scaled = pd.DataFrame(scaler.fit_transform(data), columns=data.columns)\n",
        "print(t_scaled)"
      ],
      "metadata": {
        "colab": {
          "base_uri": "https://localhost:8080/"
        },
        "id": "mRllC1JXOtRZ",
        "outputId": "c3946358-8909-497b-dec0-0e870d6e19ca"
      },
      "execution_count": 12,
      "outputs": [
        {
          "output_type": "stream",
          "name": "stdout",
          "text": [
            "      battery_power  blue  clock_speed  dual_sim        fc  four_g  \\\n",
            "0          0.227789   0.0         0.68       0.0  0.052632     0.0   \n",
            "1          0.347361   1.0         0.00       1.0  0.000000     1.0   \n",
            "2          0.041416   1.0         0.00       1.0  0.105263     1.0   \n",
            "3          0.076152   1.0         0.80       0.0  0.000000     0.0   \n",
            "4          0.881764   1.0         0.28       0.0  0.684211     1.0   \n",
            "...             ...   ...          ...       ...       ...     ...   \n",
            "1995       0.195725   1.0         0.00       1.0  0.000000     1.0   \n",
            "1996       0.977956   1.0         0.84       1.0  0.000000     0.0   \n",
            "1997       0.941884   0.0         0.16       1.0  0.052632     1.0   \n",
            "1998       0.675351   0.0         0.16       0.0  0.210526     1.0   \n",
            "1999       0.006012   1.0         0.60       1.0  0.263158     1.0   \n",
            "\n",
            "      int_memory     m_dep  mobile_wt   n_cores  ...  px_height  px_width  \\\n",
            "0       0.080645  0.555556   0.900000  0.142857  ...   0.010204  0.170895   \n",
            "1       0.822581  0.666667   0.466667  0.285714  ...   0.461735  0.993324   \n",
            "2       0.629032  0.888889   0.541667  0.571429  ...   0.644388  0.811749   \n",
            "3       0.129032  0.777778   0.425000  0.714286  ...   0.620408  0.858478   \n",
            "4       0.677419  0.555556   0.508333  0.142857  ...   0.616327  0.475300   \n",
            "...          ...       ...        ...       ...  ...        ...       ...   \n",
            "1995    0.000000  0.777778   0.216667  0.714286  ...   0.623469  0.927904   \n",
            "1996    0.596774  0.111111   0.891667  0.428571  ...   0.466837  0.977971   \n",
            "1997    0.548387  0.666667   0.233333  1.000000  ...   0.442857  0.755674   \n",
            "1998    0.709677  0.000000   0.541667  0.571429  ...   0.171429  0.113485   \n",
            "1999    0.693548  0.888889   0.733333  0.714286  ...   0.246429  0.169559   \n",
            "\n",
            "           ram      sc_h      sc_w  talk_time  three_g  touch_screen  wifi  \\\n",
            "0     0.612774  0.285714  0.388889   0.944444      0.0           0.0   1.0   \n",
            "1     0.634687  0.857143  0.166667   0.277778      1.0           1.0   0.0   \n",
            "2     0.627205  0.428571  0.111111   0.388889      1.0           1.0   0.0   \n",
            "3     0.671566  0.785714  0.444444   0.500000      1.0           0.0   0.0   \n",
            "4     0.308658  0.214286  0.111111   0.722222      1.0           1.0   0.0   \n",
            "...        ...       ...       ...        ...      ...           ...   ...   \n",
            "1995  0.110102  0.571429  0.222222   0.944444      1.0           1.0   0.0   \n",
            "1996  0.474613  0.428571  0.555556   0.777778      1.0           1.0   1.0   \n",
            "1997  0.748530  0.285714  0.055556   0.166667      1.0           1.0   0.0   \n",
            "1998  0.163816  0.928571  0.555556   0.944444      1.0           1.0   1.0   \n",
            "1999  0.978888  1.000000  0.222222   0.000000      1.0           1.0   1.0   \n",
            "\n",
            "      price_range  \n",
            "0        0.333333  \n",
            "1        0.666667  \n",
            "2        0.666667  \n",
            "3        0.666667  \n",
            "4        0.333333  \n",
            "...           ...  \n",
            "1995     0.000000  \n",
            "1996     0.666667  \n",
            "1997     1.000000  \n",
            "1998     0.000000  \n",
            "1999     1.000000  \n",
            "\n",
            "[2000 rows x 21 columns]\n"
          ]
        }
      ]
    },
    {
      "cell_type": "code",
      "source": [
        "from sklearn.linear_model import LinearRegression\n",
        "from sklearn import metrics\n",
        "features = data[['ram', 'int_memory']]\n",
        "target = data['price_range']\n",
        "features_train, features_test, target_train, target_test = train_test_split(features, target, test_size=0.3)\n",
        "regressor = LinearRegression()\n",
        "regressor.fit(features_train, target_train)\n",
        "target_pred = regressor.predict(features_test)\n",
        "print('Coefficients: \\n', regressor.coef_)\n",
        "print('Mean squared error: %.2f' % metrics.mean_squared_error(target_test, target_pred))\n",
        "print('Coefficient of determination: %.2f' % metrics.r2_score(target_test, target_pred))"
      ],
      "metadata": {
        "colab": {
          "base_uri": "https://localhost:8080/"
        },
        "id": "0X5D4I8CPkF_",
        "outputId": "e4f42336-f75a-404b-d7ec-d77bb92147b9"
      },
      "execution_count": 14,
      "outputs": [
        {
          "output_type": "stream",
          "name": "stdout",
          "text": [
            "Coefficients: \n",
            " [0.00094296 0.00035045]\n",
            "Mean squared error: 0.21\n",
            "Coefficient of determination: 0.84\n"
          ]
        }
      ]
    }
  ]
}